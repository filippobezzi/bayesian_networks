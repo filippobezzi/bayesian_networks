{
 "cells": [
  {
   "cell_type": "markdown",
   "id": "6a445de7",
   "metadata": {},
   "source": [
    "### Libraries"
   ]
  },
  {
   "cell_type": "code",
   "execution_count": 1,
   "id": "ad65d707",
   "metadata": {
    "vscode": {
     "languageId": "r"
    }
   },
   "outputs": [
    {
     "name": "stderr",
     "output_type": "stream",
     "text": [
      "Bioconductor version '3.20' is out-of-date; the current release version '3.21'\n",
      "  is available with R version '4.5'; see https://bioconductor.org/install\n",
      "\n",
      "'getOption(\"repos\")' replaces Bioconductor standard repositories, see\n",
      "'help(\"repositories\", package = \"BiocManager\")' for details.\n",
      "Replacement repositories:\n",
      "    CRAN: https://cran.r-project.org\n",
      "\n",
      "Bioconductor version 3.20 (BiocManager 1.30.26), R 4.4.3 (2025-02-28)\n",
      "\n",
      "Warning message:\n",
      "\"package(s) not installed when version(s) same as or greater than current; use\n",
      "  `force = TRUE` to re-install: 'Rgraphviz'\"\n",
      "Old packages: 'GPfit', 'Matrix', 'QuickJSR', 'R.cache', 'R.oo', 'Rcpp',\n",
      "  'RcppArmadillo', 'actuar', 'arrow', 'bayesplot', 'bayestestR', 'broom',\n",
      "  'cli', 'clock', 'cluster', 'collections', 'commonmark', 'curl', 'data.table',\n",
      "  'diffobj', 'doFuture', 'duckdb', 'evaluate', 'foreign', 'fs', 'future',\n",
      "  'future.apply', 'gapminder', 'generics', 'gert', 'ggforce', 'ggplot2', 'gh',\n",
      "  'globals', 'haven', 'httpuv', 'httr2', 'infer', 'insight', 'jsonlite',\n",
      "  'knitr', 'later', 'lattice', 'maps', 'mgcv', 'mime', 'miniUI', 'nlme',\n",
      "  'openssl', 'parallelly', 'parsnip', 'patchwork', 'pbdZMQ', 'pillar',\n",
      "  'pkgbuild', 'pkgdown', 'prodlim', 'promises', 'ps', 'purrr', 'qpdf', 'ragg',\n",
      "  'raster', 'recipes', 'rlang', 'rsample', 'sass', 'scales', 'shiny',\n",
      "  'sparsevctrs', 'stringi', 'systemfonts', 'terra', 'textshaping', 'tibble',\n",
      "  'tinytex', 'tzdb', 'utf8', 'workflowsets', 'writexl', 'xfun', 'xml2', 'zip'\n",
      "\n"
     ]
    },
    {
     "name": "stdout",
     "output_type": "stream",
     "text": [
      "\n",
      "I pacchetti binari scaricati sono in\n",
      "\t/var/folders/tg/0l3b46ln1f7_m6ctvksnpg6c0000gn/T//RtmpgqCv8q/downloaded_packages\n"
     ]
    },
    {
     "name": "stderr",
     "output_type": "stream",
     "text": [
      "Warning message:\n",
      "\"il pacchetto 'Rgraphviz' non `e disponibile for this version of R\n",
      "\n",
      "Una versione di questo pacchetto per la tua versione di R potrebbe essere disponibile altrove,\n",
      "si veda su\n",
      "https://cran.r-project.org/doc/manuals/r-patched/R-admin.html#Installing-packages\"\n"
     ]
    },
    {
     "name": "stdout",
     "output_type": "stream",
     "text": [
      "\n",
      "I pacchetti binari scaricati sono in\n",
      "\t/var/folders/tg/0l3b46ln1f7_m6ctvksnpg6c0000gn/T//RtmpgqCv8q/downloaded_packages\n",
      "\n",
      "I pacchetti binari scaricati sono in\n",
      "\t/var/folders/tg/0l3b46ln1f7_m6ctvksnpg6c0000gn/T//RtmpgqCv8q/downloaded_packages\n",
      "\n",
      "I pacchetti binari scaricati sono in\n",
      "\t/var/folders/tg/0l3b46ln1f7_m6ctvksnpg6c0000gn/T//RtmpgqCv8q/downloaded_packages\n"
     ]
    },
    {
     "name": "stderr",
     "output_type": "stream",
     "text": [
      "\n",
      "Caricamento pacchetto: 'igraph'\n",
      "\n",
      "\n",
      "Il seguente oggetto `e mascherato da 'package:DescTools':\n",
      "\n",
      "    %c%\n",
      "\n",
      "\n",
      "I seguenti oggetti sono mascherati da 'package:graph':\n",
      "\n",
      "    degree, edges, intersection, union\n",
      "\n",
      "\n",
      "I seguenti oggetti sono mascherati da 'package:BiocGenerics':\n",
      "\n",
      "    normalize, path, union\n",
      "\n",
      "\n",
      "I seguenti oggetti sono mascherati da 'package:bnlearn':\n",
      "\n",
      "    as.igraph, compare, degree, subgraph\n",
      "\n",
      "\n",
      "I seguenti oggetti sono mascherati da 'package:lubridate':\n",
      "\n",
      "    %--%, union\n",
      "\n",
      "\n",
      "I seguenti oggetti sono mascherati da 'package:dplyr':\n",
      "\n",
      "    as_data_frame, groups, union\n",
      "\n",
      "\n",
      "I seguenti oggetti sono mascherati da 'package:purrr':\n",
      "\n",
      "    compose, simplify\n",
      "\n",
      "\n",
      "Il seguente oggetto `e mascherato da 'package:tidyr':\n",
      "\n",
      "    crossing\n",
      "\n",
      "\n",
      "Il seguente oggetto `e mascherato da 'package:tibble':\n",
      "\n",
      "    as_data_frame\n",
      "\n",
      "\n",
      "I seguenti oggetti sono mascherati da 'package:stats':\n",
      "\n",
      "    decompose, spectrum\n",
      "\n",
      "\n",
      "Il seguente oggetto `e mascherato da 'package:base':\n",
      "\n",
      "    union\n",
      "\n",
      "\n"
     ]
    }
   ],
   "source": [
    "# load packages\n",
    "if (!require(\"BiocManager\", quietly = TRUE))\n",
    "    install.packages(\"BiocManager\")\n",
    "\n",
    "BiocManager::install(\"Rgraphviz\")\n",
    "install.packages(\"bnlearn\")\n",
    "install.packages(\"Rgraphviz\")\n",
    "install.packages(\"DescTools\")\n",
    "install.packages(\"igraph\")\n",
    "install.packages(\"dplyr\")\n",
    "\n",
    "\n",
    "library(infotheo)\n",
    "library(tidyverse) |> suppressPackageStartupMessages()\n",
    "library(bnlearn)   |> suppressPackageStartupMessages()\n",
    "library(Rgraphviz) |> suppressPackageStartupMessages()\n",
    "library(DescTools) |> suppressPackageStartupMessages()\n",
    "library(igraph)\n",
    "library(dplyr)\n"
   ]
  },
  {
   "cell_type": "markdown",
   "id": "1e99e806",
   "metadata": {},
   "source": [
    "### The K2 algorthm \n",
    "\n",
    "The K2 algorthm is a function that takes as an input: \n",
    "- The maximum number of parents a node can have \n",
    "- The dataset \n",
    "- The node ordering \n",
    "\n",
    "And provides as an output the DAG where the verticies are the nodes and the edges between nodes represent the condition probability between nodes. \n",
    "\n",
    "The K2 algorithm is a greedy algorithm that exploits a scoring function to find the most probable set of parents for each node. \n",
    "It compares the scorses achieved for each combination of {node, parents set} and assign the for each node the set of parents that maximizes that score. \n",
    "\n",
    "\n",
    "```\n",
    "for i := 1 to n do\n",
    "\n",
    "    π_i     := ∅\n",
    "    P_old   := f(i, π_i)\n",
    "    proceed := true\n",
    "\n",
    "    while proceed and |π_i| < u do\n",
    "\n",
    "        z     := node in Pred(x_i) - π_i that maximizes f(i, π_i ∪ {z})\n",
    "        P_new := f(i, π_i ∪ {z})\n",
    "\n",
    "        if P_new > P_old then\n",
    "\n",
    "            P_old := P_new\n",
    "            π_i   := π_i ∪ {z}\n",
    "\n",
    "        else proceed := false\n",
    "\n",
    "    end {while}\n",
    "\n",
    "    write('Node:', x_i, 'Parents of this node:', π_i)\n",
    "    \n",
    "end {for}\n",
    "```\n"
   ]
  },
  {
   "cell_type": "code",
   "execution_count": null,
   "id": "3c0ec4e9",
   "metadata": {
    "vscode": {
     "languageId": "r"
    }
   },
   "outputs": [],
   "source": [
    "k2 <- function(u, dataset, ordering = names(dataset)) {\n",
    "    nodes <- ordering\n",
    "    net.dag <- empty.graph(nodes = nodes)\n",
    "    parent.list <- vector(\"list\", length(nodes))\n",
    "    names(parent.list) <- nodes\n",
    "    score.log <- list()  \n",
    "\n",
    "    for (i in seq_along(nodes)) {\n",
    "        node <- nodes[i]\n",
    "        if (i == 1) {\n",
    "            prev.nodes <- character(0) # the first node has no parents\n",
    "        } else {\n",
    "            prev.nodes <- nodes[1:(i-1)] # nodes that precede the current node\n",
    "        }\n",
    "        parents <- character(0) \n",
    "        P_old <- f(node, parents, dataset)\n",
    "        OK <- TRUE\n",
    "        score.log[[node]] <- list()  # store scores for each node\n",
    "        while (OK && length(parents) < u && length(prev.nodes) > 0) {\n",
    "            scores <- sapply(prev.nodes, function(p) f(node, c(parents, p), dataset)) \n",
    "            \n",
    "            score.log[[node]][[paste(sort(c(parents)), collapse = \",\")]] <- setNames(as.list(scores), prev.nodes) # store scores for each parent for this node\n",
    "            z <- prev.nodes[which.max(scores)] # best parent\n",
    "            P_new <- max(scores) \n",
    "            if (P_new > P_old && z != node) { # if the new score is better than the old one and the best parent is not the node itself\n",
    "                P_old <- P_new\n",
    "                parents <- c(parents, z) # add the best parent to the list of parents\n",
    "                prev.nodes <- setdiff(prev.nodes, z) # remove the best parent from the list of possible parents\n",
    "                net.dag <- set.arc(net.dag, z, node) # add edge to the network\n",
    "            } else {\n",
    "                OK <- FALSE\n",
    "            }\n",
    "        }\n",
    "        parent.list[[node]] <- parents\n",
    "    }\n",
    "    return(list(dag = net.dag, parents = parent.list, scores = score.log))  \n",
    "}"
   ]
  },
  {
   "cell_type": "markdown",
   "id": "fe026a18",
   "metadata": {},
   "source": [
    "### The score function f"
   ]
  },
  {
   "cell_type": "markdown",
   "id": "dde8a8bd",
   "metadata": {},
   "source": [
    "The scoring function $f(i, \\pi_i)$ is the probability of the database $D$ given that the set of parents of the variable $x_i$ is represented by the list of variables $\\pi_i$.\n",
    "\n",
    "$$\n",
    "f(i, \\pi_i) = \\prod_{j=1}^{q_i} \\frac{(r_i - 1)! \\prod_{k=1}^{r_i} \\alpha_{ijk}!}{(N_{ij} + r_i - 1)!} = \\prod_{j=1}^{q_i} f_j\n",
    "$$\n",
    "\n",
    "where:\n",
    "\n",
    "- $V_i =$ list of unique instantiations of $x_i$ relative to $D$\n",
    "- $r_i = |V_i|$\n",
    "- $\\phi_i =$ list of unique instantiations of $\\pi_i$ relative to $D$\n",
    "- $q_i = |\\phi_i|$\n",
    "- $\\alpha_{ijk} =$ # cases in $D$ in which $x_i$ is instantiated as the $k$-th element in $V_i$ and $\\pi_i$ is instantiated as the $j$-th element in $\\phi_i$\n",
    "- $N_{ij} = \\sum_{k=1}^{r_i} \\alpha_{ijk} =$ # cases in $D$ in which $\\pi_i$ is instantiated as the $j$-th element in $\\phi_i$"
   ]
  },
  {
   "cell_type": "code",
   "execution_count": 4,
   "id": "924d2428",
   "metadata": {
    "vscode": {
     "languageId": "r"
    }
   },
   "outputs": [],
   "source": [
    "f <- function(node, parents, dataset) {\n",
    "\n",
    "    node.nunique <- dataset[node] |>\n",
    "                        unique() |>\n",
    "                        nrow()\n",
    "\n",
    "    contingency_table <- dataset[c(node, parents)] |>\n",
    "                            table() |>\n",
    "                            as.data.frame() |>\n",
    "                            as_tibble() |>\n",
    "                            filter(Freq >= 0)\n",
    "\n",
    "    numerator <- contingency_table |>\n",
    "                    mutate(Freq = factorial(Freq)) |>\n",
    "                    group_by_at(parents) |>\n",
    "                    summarise(Freq = prod(Freq), .groups='drop_last') |>\n",
    "                    mutate(Freq = (Freq * factorial(node.nunique - 1))) |>\n",
    "                    ungroup() |>\n",
    "                    select(Freq) |>\n",
    "                    deframe()\n",
    "\n",
    "    denominator <- contingency_table |>\n",
    "                    group_by_at(parents) |>\n",
    "                    summarise(Freq = sum(Freq), .groups='drop_last') |>\n",
    "                    mutate(Freq = factorial(Freq + node.nunique - 1)) |>\n",
    "                    ungroup() |>\n",
    "                    select(Freq) |>\n",
    "                    deframe()\n",
    "\n",
    "    dataset.prob <- prod(numerator / denominator)\n",
    "\n",
    "    return(dataset.prob)\n",
    "\n",
    "}"
   ]
  },
  {
   "cell_type": "markdown",
   "id": "812427d2",
   "metadata": {},
   "source": [
    "### Score function in scale log "
   ]
  },
  {
   "cell_type": "markdown",
   "id": "4864cb75",
   "metadata": {},
   "source": [
    "It is possible to improve the run-time speed of the K2 algorithm by replacing $f$ with $\\log(f)$.\n",
    "In fact, the logarithmic version of the scoring function requires only addition and subtraction, rather than multiplication and division.\n",
    "\n",
    "Note that:\n",
    "\n",
    "$$\n",
    "\\log(n!) = \\log \\left( \\prod_{x=1}^n x \\right) = \\sum_{x=1}^n \\log(x)\n",
    "$$\n",
    "\n",
    "Therefore:\n",
    "\n",
    "$$\n",
    "\\log(f) = \\log \\left( \\prod_{j=1}^{q_i} f_j \\right) = \\sum_{j=1}^{q_i} \\log(f_j)\n",
    "$$\n",
    "\n",
    "where:\n",
    "\n",
    "$$\n",
    "\\begin{aligned}\n",
    "\\log(f_j) &= \\log \\left[ \\frac{(r_i - 1)! \\prod_{k=1}^{r_i} \\alpha_{ijk}!}{(N_{ij} + r_i - 1)!} \\right] = \\newline\n",
    "&= \\log \\left[ \\left( r_i - 1 \\right)! \\right] + \\log \\left[ \\prod_{k=1}^{r_i} \\alpha_{ijk}! \\right] - \\log \\left[ \\left( N_{ij} + r_i - 1 \\right)! \\right] = \\newline\n",
    "&= \\color{red}{\\sum_{x=1}^{r_i - 1} \\log(x)} + \\color{green}{\\sum_{k=1}^{r_i} \\sum_{y=1}^{\\alpha_{ijk}} \\log(y)} - \\color{blue}{\\sum_{z=1}^{N_{ij} + r_i - 1} \\log(z)} = \\newline\n",
    "&= \\color{red}{A} + \\color{green}{B} - \\color{blue}{C}\n",
    "\\end{aligned}\n",
    "$$\n",
    "\n",
    "The use of $\\log(f)$ as scoring function is particularly effective in the case of very large datasets, since it allows to avoid the computation of huge factorials."
   ]
  },
  {
   "cell_type": "code",
   "execution_count": 5,
   "id": "9e093a70",
   "metadata": {
    "vscode": {
     "languageId": "r"
    }
   },
   "outputs": [],
   "source": [
    "f <- function(node, parents, dataset) { #log one \n",
    "\n",
    "    node.nunique <- dataset[node] |>\n",
    "                        unique() |>\n",
    "                        nrow()\n",
    "\n",
    "    contingency_table <- dataset[c(node, parents)] |>\n",
    "                            table() |>\n",
    "                            as.data.frame() |>\n",
    "                            as_tibble() |>\n",
    "                            filter(Freq > 0)\n",
    "\n",
    "    A <- 1:(node.nunique - 1) |>\n",
    "            log() |>\n",
    "            sum()\n",
    "\n",
    "    B <- contingency_table |>\n",
    "            rowwise() |>\n",
    "            mutate(Freq = ((1:Freq) |> log() |> sum())) |>\n",
    "            ungroup() |>\n",
    "            group_by_at(parents) |>\n",
    "            summarise(Freq = sum(Freq), .groups='drop_last') |>\n",
    "            ungroup() |>\n",
    "            select(Freq) |>\n",
    "            deframe()\n",
    "\n",
    "    C <- contingency_table |>\n",
    "            group_by_at(parents) |>\n",
    "            summarise(Freq = sum(Freq), .groups='drop_last') |>\n",
    "            ungroup() |>\n",
    "            rowwise() |>\n",
    "            mutate(Freq = ((1:(Freq + node.nunique - 1)) |> log() |> sum())) |>\n",
    "            ungroup() |>\n",
    "            select(Freq) |>\n",
    "            deframe()\n",
    "\n",
    "    dataset.log.prob <- sum(A + B - C)\n",
    "    \n",
    "    return(dataset.log.prob)\n",
    "\n",
    "}"
   ]
  },
  {
   "cell_type": "markdown",
   "id": "9317ddc9",
   "metadata": {},
   "source": [
    "### Mutual Information-Based Node Ordering Algorithm\n",
    "\n",
    "The K2 algorithm is node order sensitive. That means that different node orders can give very different final DAGs. The best case scenario is when the ordering is given by an expert in the field we try to study. But often this task might be hard and time-consuming. For this reason, attempts have been made to extract the node ordering from the data itself. There are many methods to do so, mainly focused on extracting the node order using independence tests or scoring functions. \n",
    "\n",
    "Given that an exhaustive search is not computationally feasible, a common strategy is to get a set of random node orders and to pick the one that maximizes the overall score. We chose a different approach by using the mutual information between each node.\n",
    "\n",
    "The following is the algorithm we used to get the node ordering that K2 needs to build the DAG. It is based on the 2008 paper *\"Improving Bayesian Network Structure Learning with Mutual Information-Based Node Ordering in the K2 Algorithm\"* by Xue-Wen Chen, Gopalakrishna Anantha, and Xiaotong Lin. The algorithm exploits the mutual information between each node and conditional independence tests to create an acyclic directed graph that has the nodes as vertices. The final node ordering to give to the K2 algorithm corresponds to the topological order of the previously mentioned directed graph.\n",
    "\n",
    "The algorithm is divided into **4 main phases**:\n",
    "- **Phase 1:** The algorithm calculates the mutual information of each node (with respect to any other node) and, for a pair of nodes (X,Y), if the condition $I(X;Y) \\geq \\alpha \\times MMI(X)$ is satisfied, where $MMI(X)$ is the Maximum Mutual Information, then an edge is added between X and Y. We do so for each pair of nodes and in the end we will have an undirected network.\n",
    "- **Phase 2:** The UDN we obtained from the previous phase might not be fully connected. We exploit the adjacency matrix properties to check the full connection and, if we find that the target or the source node is not connected to the network, or if the source node cannot reach the target, we add an edge to the network.\n",
    "- **Phase 3:** In this phase the algorithm performs conditional independence tests to remove excess edges and refine the UDN.\n",
    "- **Phase 4:** Finally, orientation is given to the graph. It uses conditional independence tests and BDe scores to assign orientation."
   ]
  },
  {
   "cell_type": "code",
   "execution_count": null,
   "id": "5dc940c7",
   "metadata": {
    "vscode": {
     "languageId": "r"
    }
   },
   "outputs": [],
   "source": [
    "# The code to extract the node ordering from the dataset is divided in multiple functions.\n",
    "# The main function is get_node_ordering_for_K2, which calls the other functions.\n",
    "# The other functions are:\n",
    "# - build_undirected_network: builds the undirected network\n",
    "# - achieve_complete_connectivity: achieves complete connectivity\n",
    "# - refine_graph_structure: refines the graph structure\n",
    "# - assign_orientations: assigns orientations to the graph\n",
    "# - extract_topological_order: extracts the topological order of the graph\n",
    "\n",
    "# Main function to get node ordering for K2 algorithm\n",
    "get_node_ordering_for_K2 <- function(data, alpha = 0.9, max_parents = NULL) {\n",
    "  \n",
    "  # Convert data to discrete numeric format\n",
    "  data_discrete <- prepare_discrete_data(data)\n",
    "  \n",
    "  # PHASE 1: Build Undirected Network\n",
    "  cat(\"PHASE 1: Building Undirected Network...\\n\")\n",
    "  undirected_network <- build_undirected_network(data_discrete, alpha)\n",
    "  \n",
    "  # PHASE 2: Achieve Complete Connectivity\n",
    "  cat(\"PHASE 2: Achieving Complete Connectivity...\\n\")\n",
    "  complete_network <- achieve_complete_connectivity(undirected_network$adj_matrix, \n",
    "                                                   undirected_network$mi_matrix)\n",
    "  \n",
    "  # PHASE 3: Refine Graph Structure\n",
    "  cat(\"PHASE 3: Refining Graph Structure...\\n\")\n",
    "  refined_network <- refine_graph_structure(complete_network, data_discrete, \n",
    "                                          undirected_network$mi_matrix)\n",
    "  \n",
    "  # PHASE 4: Assign Orientations\n",
    "  cat(\"PHASE 4: Assigning Orientations...\\n\")\n",
    "  directed_network <- assign_orientations(refined_network, data_discrete)\n",
    "  \n",
    "  # Extract topological order\n",
    "  node_order <- extract_topological_order(directed_network)\n",
    "  \n",
    "  return(node_order)\n",
    "}\n",
    "\n",
    "# Function to prepare discrete data\n",
    "prepare_discrete_data <- function(data) {\n",
    "  data_discrete <- data\n",
    "  \n",
    "  for (col in names(data)) {\n",
    "    # If column is character or logical, convert to factor\n",
    "    if (is.character(data[[col]]) || is.logical(data[[col]])) {\n",
    "      data_discrete[[col]] <- as.factor(data[[col]])\n",
    "    }\n",
    "    # If numeric with few unique values, consider already discrete\n",
    "    else if (is.numeric(data[[col]]) && length(unique(data[[col]])) < 20) {\n",
    "      data_discrete[[col]] <- as.factor(data[[col]])\n",
    "    }\n",
    "    # Otherwise discretize using equal-width binning\n",
    "    else {\n",
    "      data_discrete[[col]] <- cut(data[[col]], breaks = 5, labels = FALSE)\n",
    "    }\n",
    "  }\n",
    "  \n",
    "  # Convert everything to numeric for MI calculation\n",
    "  data_numeric <- as.data.frame(lapply(data_discrete, as.numeric))\n",
    "  names(data_numeric) <- names(data)\n",
    "  \n",
    "  return(data_numeric)\n",
    "}"
   ]
  },
  {
   "cell_type": "markdown",
   "id": "337800a4",
   "metadata": {},
   "source": [
    "### Phase 1: Creation of the Undirected Network"
   ]
  },
  {
   "cell_type": "markdown",
   "id": "c7f93eb8",
   "metadata": {},
   "source": [
    "In the first phase we define the connection between nodes using the mutual information between them. The mutual information between two variables has the following expression: $I(X;Y) = H(X) - H(X|Y)$\n",
    "where $H(X)$ is the Shannon entropy of X, in other words how much uncertainty there is in X. And $H(X|Y)$ is the conditional entropy, i.e., how much uncertainty there is in X given Y. The reason for using the mutual information between nodes to establish connections between them is that through MI we can evaluate how much the uncertainty in X changes given that we know Y: if there is a connection between X and Y it means that a lot of information is passed from X to Y.\n",
    "\n",
    "From the practical point of view, we create an adjacency matrix where the vertices are the nodes, and a path is established when \\. To avoid discarding existing connections ($\\alpha$ too close to 1), or adding non-existent ones ($\\alpha$ too low), we, as suggested in the reference, decided to use $\\alpha = 0.9$."
   ]
  },
  {
   "cell_type": "code",
   "execution_count": null,
   "id": "c187f693",
   "metadata": {
    "vscode": {
     "languageId": "r"
    }
   },
   "outputs": [],
   "source": [
    "# PHASE 1: Build Undirected Network\n",
    "build_undirected_network <- function(data, alpha) {\n",
    "  n_vars <- ncol(data)\n",
    "  var_names <- names(data)\n",
    "  \n",
    "  # Calculate Mutual Information for all variable pairs\n",
    "  mi_matrix <- matrix(0, n_vars, n_vars, dimnames = list(var_names, var_names))\n",
    "  \n",
    "  cat(\"Calculating Mutual Information...\\n\")\n",
    "  for (i in 1:(n_vars-1)) {\n",
    "    for (j in (i+1):n_vars) {\n",
    "      # Calculate MI using infotheo library\n",
    "      mi_value <- mutinformation(data[,i], data[,j])\n",
    "      mi_matrix[i,j] <- mi_value\n",
    "      mi_matrix[j,i] <- mi_value  # MI is symmetric\n",
    "    }\n",
    "  }\n",
    "  # Find Maximum MI (MMI) for each node\n",
    "  mmi <- apply(mi_matrix, 1, function(x) max(x[x > 0], na.rm = TRUE))\n",
    "  \n",
    "  # Build initial adjacency matrix\n",
    "  adj_matrix <- matrix(0, n_vars, n_vars, dimnames = list(var_names, var_names)) ix\n",
    "  \n",
    "  # Add edges\n",
    "  cat(\"Building initial network...\\n\")\n",
    "  for (i in 1:n_vars) {\n",
    "    for (j in 1:n_vars) {\n",
    "      if (i != j) {\n",
    "        # Condition: I(X,Y) >= α * MMI(X) OR I(Y,X) >= α * MMI(Y)\n",
    "        if (mi_matrix[i,j] >= alpha * mmi[i] || mi_matrix[j,i] >= alpha * mmi[j]) {\n",
    "          adj_matrix[i,j] <- 1\n",
    "          adj_matrix[j,i] <- 1\n",
    "        }\n",
    "      }\n",
    "    }\n",
    "  }\n",
    "  \n",
    "  return(list(adj_matrix = adj_matrix, mi_matrix = mi_matrix))\n",
    "}\n",
    "\n",
    "\n"
   ]
  },
  {
   "cell_type": "markdown",
   "id": "ac8b1a5c",
   "metadata": {},
   "source": [
    "### Phase 2: Achieve Complete Connectivity\n",
    "At this point, the UDN created in the previous section may not be fully connected. In this phase we exploit the adjacency matrix properties to find unconnected nodes and when one of the following conditions is met we add a connection:\n",
    "- The target/source node is not connected to any other node in the network\n",
    "- No path of any length exists that connects the source node with the target node\n",
    "\n",
    "Let A be the adjacency matrix. If we raise it to the power of 2, for each entry i and j, $A_{ij}^2$ will represent the number of paths of length 2 between i and j. If we continue to raise the adjacency matrix until we reach n-1, and add all the matrices, we end up with a final matrix, the SUM_MATRIX. If in the matrix we spot a zero, it means that there are no paths of any length between those i and j."
   ]
  },
  {
   "cell_type": "code",
   "execution_count": null,
   "id": "7af7c66a",
   "metadata": {
    "vscode": {
     "languageId": "r"
    }
   },
   "outputs": [],
   "source": [
    "# PHASE 2: Achieve Complete Connectivity\n",
    "achieve_complete_connectivity <- function(adj_matrix, mi_matrix) {\n",
    "  n_vars <- nrow(adj_matrix)\n",
    "  var_names <- rownames(adj_matrix)\n",
    "  \n",
    "  # Create ordered list of node pairs by decreasing MI\n",
    "  mi_pairs <- list()\n",
    "  k <- 1\n",
    "  for (i in 1:(n_vars-1)) {\n",
    "    for (j in (i+1):n_vars) {\n",
    "      mi_pairs[[k]] <- list(i = i, j = j, mi = mi_matrix[i,j])\n",
    "      k <- k + 1\n",
    "    }\n",
    "  }\n",
    "  mi_pairs <- mi_pairs[order(sapply(mi_pairs, function(x) x$mi), decreasing = TRUE)]\n",
    "  \n",
    "  # Check complete connectivity\n",
    "  cat(\"Achieving complete connectivity...\\n\")\n",
    "  while (!is_completely_connected(adj_matrix)) {\n",
    "    # Add edges \n",
    "    for (pair in mi_pairs) {\n",
    "      i <- pair$i\n",
    "      j <- pair$j\n",
    "      \n",
    "      if (adj_matrix[i,j] == 0) {  # If edge doesn't exist yet\n",
    "        # Check conditions to add edge\n",
    "        # 1. Target node is not connected to any other node\n",
    "        # 2. Source node is not connected to any other node  \n",
    "        # 3. There's no path between source and target\n",
    "        \n",
    "        if (sum(adj_matrix[i,]) == 0 || sum(adj_matrix[j,]) == 0 ||\n",
    "            !has_path(adj_matrix, i, j)) {\n",
    "          adj_matrix[i,j] <- 1\n",
    "          adj_matrix[j,i] <- 1\n",
    "          \n",
    "          # If now completely connected, exit\n",
    "          if (is_completely_connected(adj_matrix)) {\n",
    "            break\n",
    "          }\n",
    "        }\n",
    "      }\n",
    "    }\n",
    "  }\n",
    "  \n",
    "  return(adj_matrix)\n",
    "}\n",
    "\n",
    "# Function to check if graph is completely connected\n",
    "is_completely_connected <- function(adj_matrix) {\n",
    "  if (nrow(adj_matrix) == 1) return(TRUE)\n",
    "  g <- graph_from_adjacency_matrix(adj_matrix, mode = \"undirected\")\n",
    "  return(is_connected(g))\n",
    "}\n",
    "\n",
    "# Function to check if path exists between two nodes\n",
    "has_path <- function(adj_matrix, from, to) {\n",
    "  if (from == to) return(TRUE)\n",
    "  \n",
    "  # Temporarily remove direct edge between nodes\n",
    "  temp_adj <- adj_matrix\n",
    "  temp_adj[from, to] <- 0\n",
    "  temp_adj[to, from] <- 0\n",
    "  \n",
    "  g <- graph_from_adjacency_matrix(temp_adj, mode = \"undirected\")\n",
    "  \n",
    "  # If one node is isolated after removal, there's no path\n",
    "  if (degree(g)[from] == 0 || degree(g)[to] == 0) {\n",
    "    return(FALSE)\n",
    "  }\n",
    "  \n",
    "  paths <- shortest_paths(g, from = from, to = to)\n",
    "  return(length(paths$vpath[[1]]) > 0)\n",
    "}"
   ]
  },
  {
   "cell_type": "markdown",
   "id": "0bd54ff5",
   "metadata": {},
   "source": [
    "### Phase 3: Refine Graph Structure\n",
    "In this phase we perform independence tests to eliminate or add connections. This consists of finding triangles in the UDN, let's say ABC, and eliminating an edge at a time, then performing an independence test on the opposite node from the edge we eliminated. If the independence test holds, the edge remains cancelled. If not, we eliminate another edge and perform another independence test.\n",
    "\n",
    "For any triangle ABC:\n",
    "- Eliminate A-B, test $P(A | C) = P(A | B, C)$\n",
    "- Eliminate A-C, test $P(A | B) = P(A | C, B)$\n",
    "- Eliminate B-C, test $P(B | A) = P(B | C, A)$\n",
    "\n",
    "If the conditional independence test holds, we eliminate the edge from the UDN. If not, we keep searching for other parents from the MI list."
   ]
  },
  {
   "cell_type": "code",
   "execution_count": null,
   "id": "7963503b",
   "metadata": {
    "vscode": {
     "languageId": "r"
    }
   },
   "outputs": [],
   "source": [
    "# PHASE 3: Refine Graph Structure\n",
    "refine_graph_structure <- function(adj_matrix, data, mi_matrix) {\n",
    "  n_vars <- nrow(adj_matrix)\n",
    "  var_names <- rownames(adj_matrix)\n",
    "  \n",
    "  # Find all triangles in the graph\n",
    "  triangles <- find_triangles(adj_matrix)\n",
    "  \n",
    "  cat(sprintf(\"Found %d triangles to refine...\\n\", length(triangles)))\n",
    "  \n",
    "  for (triangle in triangles) {\n",
    "    # triangle contains indices of three nodes\n",
    "    nodes <- triangle\n",
    "    \n",
    "    # Test conditional independence for each edge of the triangle\n",
    "    edge_removed <- FALSE\n",
    "    \n",
    "    # Test for edge A-B conditioned on C\n",
    "    if (test_conditional_independence(data, nodes[1], nodes[2], nodes[3])) {\n",
    "      adj_matrix[nodes[1], nodes[2]] <- 0\n",
    "      adj_matrix[nodes[2], nodes[1]] <- 0\n",
    "      edge_removed <- TRUE\n",
    "    }\n",
    "    # Test for edge A-C conditioned on B\n",
    "    else if (test_conditional_independence(data, nodes[1], nodes[3], nodes[2])) {\n",
    "      adj_matrix[nodes[1], nodes[3]] <- 0\n",
    "      adj_matrix[nodes[3], nodes[1]] <- 0\n",
    "      edge_removed <- TRUE\n",
    "    }\n",
    "    # Test for edge B-C conditioned on A\n",
    "    else if (test_conditional_independence(data, nodes[2], nodes[3], nodes[1])) {\n",
    "      adj_matrix[nodes[2], nodes[3]] <- 0\n",
    "      adj_matrix[nodes[3], nodes[2]] <- 0\n",
    "      edge_removed <- TRUE\n",
    "    }\n",
    "    \n",
    "    # If no test succeeds, try with potential parents \n",
    "    if (!edge_removed) {\n",
    "      # For now keep the triangle\n",
    "      # A complete implementation would search for common parents using MI\n",
    "    }\n",
    "  }\n",
    "  \n",
    "  return(adj_matrix)\n",
    "}\n",
    "\n",
    "# Function to find all triangles in the graph\n",
    "find_triangles <- function(adj_matrix) {\n",
    "  g <- graph_from_adjacency_matrix(adj_matrix, mode = \"undirected\")\n",
    "  cliques <- cliques(g, min = 3, max = 3)\n",
    "  return(lapply(cliques, as.numeric))\n",
    "}\n",
    "\n",
    "# Conditional independence test\n",
    "test_conditional_independence <- function(data, x_idx, y_idx, z_idx) {\n",
    "  # Get column names from indices\n",
    "  var_names <- names(data)\n",
    "  x_name <- var_names[x_idx]\n",
    "  y_name <- var_names[y_idx]\n",
    "  z_name <- var_names[z_idx]\n",
    "  \n",
    "  #we use simplified implementation based on conditional MI\n",
    "  \n",
    "  # Calculate MI(X,Y|Z)\n",
    "  # If MI(X,Y|Z) ≈ 0, then X and Y are conditionally independent given Z\n",
    "  \n",
    "  # For simplicity, we use a threshold\n",
    "  threshold <- 0.01\n",
    "  \n",
    "  # Calculate conditional mutual information\n",
    "  xyz_data <- data[, c(x_idx, y_idx, z_idx)]\n",
    "  \n",
    "  # MI(X,Y|Z) using entropy\n",
    "  mi_xy <- mutinformation(data[,x_idx], data[,y_idx])\n",
    "  mi_xz <- mutinformation(data[,x_idx], data[,z_idx])\n",
    "  mi_yz <- mutinformation(data[,y_idx], data[,z_idx])\n",
    "  \n",
    "  # Approximation: if MI(X,Y) << MI(X,Z) and MI(Y,Z), probably independent given Z\n",
    "  cond_mi_approx <- mi_xy - min(mi_xz, mi_yz)\n",
    "  \n",
    "  return(cond_mi_approx < threshold)\n",
    "}"
   ]
  },
  {
   "cell_type": "markdown",
   "id": "7e52310f",
   "metadata": {},
   "source": [
    "### Phase 4: Assign Orientations\n",
    "Finally, in this phase we give an orientation to the UDN. To do so we once again use the conditional independence test. We identify nodes (A, B) that are connected through only one node (C). Let's say:\n",
    "A - C - B\n",
    "\n",
    "We perform a conditional independence test between A and B given C: $P(A | C) = P(A | B, C)$, in other words, going from C to A is the same as going from B to C to A. If A and B are independent, B is not transferring any information to A.\n",
    "\n",
    "If the test fails, it means that B is transferring information to A or the set of nodes {A, C, B} does not satisfy the Markov condition. So we search for other paths that connect A to B. If the potential set of parents (excluding C) for A and B is null, we assign the orientation A → C and B → C.\n",
    "\n",
    "To keep things simple, we chose not to follow the remaining paper's steps to assign ordering (which consist of Scoring Four- and Five-Node Loops, Additional Conditional Independence Tests and Final Scoring Methods) but instead we order the remaining nodes avoiding cycles."
   ]
  },
  {
   "cell_type": "code",
   "execution_count": null,
   "id": "12f151b4",
   "metadata": {
    "vscode": {
     "languageId": "r"
    }
   },
   "outputs": [],
   "source": [
    "# PHASE 4: Assign Orientations\n",
    "assign_orientations <- function(adj_matrix, data) {\n",
    "  n_vars <- nrow(adj_matrix)\n",
    "  \n",
    "  # Create matrix for directed graph\n",
    "  dag_matrix <- matrix(0, n_vars, n_vars, dimnames = list(rownames(adj_matrix), \n",
    "                                                          colnames(adj_matrix)))\n",
    "  \n",
    "  # PHASE 4: Conditional independence tests to assign some orientations\n",
    "  dag_matrix <- phase4_conditional_independence(adj_matrix, dag_matrix, data)\n",
    "  \n",
    "  # PHASE 5-7: For simplicity, we orient remaining edges avoiding cycles\n",
    "  dag_matrix <- complete_orientation(adj_matrix, dag_matrix)\n",
    "  \n",
    "  return(dag_matrix)\n",
    "}\n",
    "\n",
    "# PHASE 4: Conditional independence tests\n",
    "phase4_conditional_independence <- function(adj_matrix, dag_matrix, data) {\n",
    "  n_vars <- nrow(adj_matrix)\n",
    "  \n",
    "  cat(\"PHASE 4: Conditional independence tests...\\n\")\n",
    "  \n",
    "  for (c in 1:n_vars) {\n",
    "    neighbors <- which(adj_matrix[c,] == 1)\n",
    "    \n",
    "    if (length(neighbors) >= 2) {\n",
    "      for (i in 1:(length(neighbors)-1)) {\n",
    "        for (j in (i+1):length(neighbors)) {\n",
    "          a <- neighbors[i]\n",
    "          b <- neighbors[j]\n",
    "          \n",
    "          # If A and B are not directly connected\n",
    "          if (adj_matrix[a,b] == 0) {\n",
    "            # If A and B are not conditionally independent given C\n",
    "            if (!test_conditional_independence(data, a, b, c)) {\n",
    "              # Orient A -> C and B -> C (v-structure)\n",
    "              dag_matrix[a,c] <- 1\n",
    "              dag_matrix[b,c] <- 1\n",
    "            }\n",
    "          }\n",
    "        }\n",
    "      }\n",
    "    }\n",
    "  }\n",
    "  \n",
    "  return(dag_matrix)\n",
    "}\n",
    "\n",
    "# Complete orientation of remaining edges\n",
    "complete_orientation <- function(adj_matrix, dag_matrix) {\n",
    "  cat(\"Completing orientations...\\n\")\n",
    "  \n",
    "  # Copy already oriented edges\n",
    "  oriented_edges <- which(dag_matrix == 1, arr.ind = TRUE)\n",
    "  \n",
    "  # For each unoriented edge\n",
    "  for (i in 1:nrow(adj_matrix)) {\n",
    "    for (j in 1:ncol(adj_matrix)) {\n",
    "      if (i != j && adj_matrix[i,j] == 1 && dag_matrix[i,j] == 0 && dag_matrix[j,i] == 0) {\n",
    "        # Try to add edge i->j\n",
    "        dag_matrix[i,j] <- 1\n",
    "        \n",
    "        # If creates cycle, try j->i instead\n",
    "        if (has_cycle(dag_matrix)) {\n",
    "          dag_matrix[i,j] <- 0\n",
    "          dag_matrix[j,i] <- 1\n",
    "          \n",
    "          \n",
    "          if (has_cycle(dag_matrix)) {\n",
    "            dag_matrix[j,i] <- 0\n",
    "            \n",
    "          }\n",
    "        }\n",
    "      }\n",
    "    }\n",
    "  }\n",
    "  \n",
    "  return(dag_matrix)\n",
    "}\n",
    "\n",
    "# Function to check if graph has cycles\n",
    "has_cycle <- function(dag_matrix) {\n",
    "  if (sum(dag_matrix) == 0) return(FALSE)\n",
    "  g <- graph_from_adjacency_matrix(dag_matrix, mode = \"directed\")\n",
    "  return(!is_dag(g))\n",
    "}\n",
    "\n",
    "# Extract topological order \n",
    "extract_topological_order <- function(dag_matrix) {\n",
    "  cat(\"Extracting topological order...\\n\")\n",
    "  \n",
    "  # If there are unoriented edges, orient them arbitrarily maintaining acyclicity\n",
    "  adj_complete <- (dag_matrix + t(dag_matrix)) > 0\n",
    "  \n",
    "  for (i in 1:nrow(dag_matrix)) {\n",
    "    for (j in 1:ncol(dag_matrix)) {\n",
    "      if (i != j && adj_complete[i,j] && dag_matrix[i,j] == 0 && dag_matrix[j,i] == 0) {\n",
    "        dag_matrix[i,j] <- 1\n",
    "        if (has_cycle(dag_matrix)) {\n",
    "          dag_matrix[i,j] <- 0\n",
    "          dag_matrix[j,i] <- 1\n",
    "        }\n",
    "      }\n",
    "    }\n",
    "  }\n",
    "  \n",
    "  g <- graph_from_adjacency_matrix(dag_matrix, mode = \"directed\")\n",
    "  \n",
    "  # If graph is not a DAG, try to correct\n",
    "  if (!is_dag(g)) {\n",
    "    warning(\"Resulting graph is not a DAG. Attempting correction...\")\n",
    "    dag_matrix <- make_dag(dag_matrix)\n",
    "    g <- graph_from_adjacency_matrix(dag_matrix, mode = \"directed\")\n",
    "  }\n",
    "  \n",
    "  # Get topological order - USE topo_sort \n",
    "  topo_order <- topo_sort(g, mode = \"out\")\n",
    "  node_names <- rownames(dag_matrix)\n",
    "  \n",
    "  return(node_names[topo_order])\n",
    "}\n",
    "\n",
    "# Utility function to make graph a DAG\n",
    "make_dag <- function(dag_matrix) {\n",
    "  max_iterations <- 100\n",
    "  iter <- 0\n",
    "  \n",
    "  while (has_cycle(dag_matrix) && iter < max_iterations) {\n",
    "    iter <- iter + 1\n",
    "    g <- graph_from_adjacency_matrix(dag_matrix, mode = \"directed\")\n",
    "    \n",
    "    # Find a simple cycle\n",
    "    # Use DFS to find back edges\n",
    "    for (i in 1:nrow(dag_matrix)) {\n",
    "      for (j in 1:ncol(dag_matrix)) {\n",
    "        if (dag_matrix[i,j] == 1) {\n",
    "          # Temporarily remove this edge\n",
    "          dag_matrix[i,j] <- 0\n",
    "          \n",
    "          # If now has no cycles, keep the removal\n",
    "          if (!has_cycle(dag_matrix)) {\n",
    "            break\n",
    "          } else {\n",
    "            # otherwise restore\n",
    "            dag_matrix[i,j] <- 1\n",
    "          }\n",
    "        }\n",
    "      }\n",
    "      if (!has_cycle(dag_matrix)) break\n",
    "    }\n",
    "  }\n",
    "  \n",
    "  if (iter == max_iterations) {\n",
    "    warning(\"Unable to remove all cycles\")\n",
    "  }\n",
    "  \n",
    "  return(dag_matrix)\n",
    "}\n",
    "\n"
   ]
  },
  {
   "cell_type": "markdown",
   "id": "b6280da6",
   "metadata": {},
   "source": [
    "# Testing \n",
    "Now we want to test the K2 and Ordering algorithms on 4 datasets. \n",
    "- Ruiz dataset\n",
    "- Asia dataset\n",
    "- Child dataset\n",
    "- Sachs dataset"
   ]
  },
  {
   "cell_type": "markdown",
   "id": "88f975ab",
   "metadata": {},
   "source": [
    "### Testing: dummy dataset"
   ]
  },
  {
   "cell_type": "code",
   "execution_count": null,
   "id": "3c2f9f87",
   "metadata": {
    "vscode": {
     "languageId": "r"
    }
   },
   "outputs": [
    {
     "name": "stdout",
     "output_type": "stream",
     "text": [
      "PHASE 1: Building Undirected Network...\n",
      "Calculating Mutual Information...\n",
      "Building initial network...\n",
      "PHASE 2: Achieving Complete Connectivity...\n",
      "Achieving complete connectivity...\n",
      "PHASE 3: Refining Graph Structure...\n",
      "Found 0 triangles to refine...\n",
      "PHASE 4-7: Assigning Orientations...\n",
      "PHASE 4: Conditional independence tests...\n",
      "Completing orientations...\n",
      "Extracting topological order...\n",
      "[1] \"x1\" \"x2\" \"x3\"\n"
     ]
    }
   ],
   "source": [
    "# Test on dummy data\n",
    "dummy <- data.frame(\n",
    "  x1 = c(1,1,0,1,0,0,1,0,1,0),\n",
    "  x2 = c(0,1,0,1,0,1,1,0,1,0),\n",
    "  x3 = c(0,1,1,1,0,1,1,0,1,0)\n",
    ")\n",
    "\n",
    "# Run the algorithm\n",
    "node_order <- get_node_ordering_for_K2(dummy, alpha = 0.7)\n",
    "print(node_order)\n"
   ]
  },
  {
   "cell_type": "code",
   "execution_count": 12,
   "id": "b23340e8",
   "metadata": {
    "vscode": {
     "languageId": "r"
    }
   },
   "outputs": [
    {
     "data": {
      "text/plain": [
       "\n",
       "  Random/Generated Bayesian network\n",
       "\n",
       "  model:\n",
       "   [x1][x2|x1][x3|x2] \n",
       "  nodes:                                 3 \n",
       "  arcs:                                  2 \n",
       "    undirected arcs:                     0 \n",
       "    directed arcs:                       2 \n",
       "  average markov blanket size:           1.33 \n",
       "  average neighbourhood size:            1.33 \n",
       "  average branching factor:              0.67 \n",
       "\n",
       "  generation algorithm:                  Empty \n"
      ]
     },
     "metadata": {},
     "output_type": "display_data"
    },
    {
     "data": {
      "image/png": "[encoded data removed]",
      "text/plain": [
       "plot without title"
      ]
     },
     "metadata": {
      "image/png": {
       "height": 420,
       "width": 420
      }
     },
     "output_type": "display_data"
    }
   ],
   "source": [
    "result <- k2(2, dummy, ordering = node_order )\n",
    "result$dag\n",
    "graphviz.plot(result$dag)"
   ]
  },
  {
   "cell_type": "markdown",
   "id": "830de945",
   "metadata": {},
   "source": [
    "### Test: Asia Dataset"
   ]
  },
  {
   "cell_type": "code",
   "execution_count": 13,
   "id": "909d3c2f",
   "metadata": {
    "vscode": {
     "languageId": "r"
    }
   },
   "outputs": [
    {
     "name": "stderr",
     "output_type": "stream",
     "text": [
      "\u001b[1mRows: \u001b[22m\u001b[34m10000\u001b[39m \u001b[1mColumns: \u001b[22m\u001b[34m8\u001b[39m\n",
      "\u001b[36m--\u001b[39m \u001b[1mColumn specification\u001b[22m \u001b[36m--------------------------------------------------------\u001b[39m\n",
      "\u001b[1mDelimiter:\u001b[22m \",\"\n",
      "\u001b[31mchr\u001b[39m (8): asia, tub, smoke, lung, bronc, either, xray, dysp\n",
      "\n",
      "\u001b[36mi\u001b[39m Use `spec()` to retrieve the full column specification for this data.\n",
      "\u001b[36mi\u001b[39m Specify the column types or set `show_col_types = FALSE` to quiet this message.\n"
     ]
    },
    {
     "data": {
      "text/html": [
       "<table class=\"dataframe\">\n",
       "<caption>A tibble: 6 x 8</caption>\n",
       "<thead>\n",
       "\t<tr><th scope=col>asia</th><th scope=col>tub</th><th scope=col>smoke</th><th scope=col>lung</th><th scope=col>bronc</th><th scope=col>either</th><th scope=col>xray</th><th scope=col>dysp</th></tr>\n",
       "\t<tr><th scope=col>&lt;chr&gt;</th><th scope=col>&lt;chr&gt;</th><th scope=col>&lt;chr&gt;</th><th scope=col>&lt;chr&gt;</th><th scope=col>&lt;chr&gt;</th><th scope=col>&lt;chr&gt;</th><th scope=col>&lt;chr&gt;</th><th scope=col>&lt;chr&gt;</th></tr>\n",
       "</thead>\n",
       "<tbody>\n",
       "\t<tr><td>no</td><td>no</td><td>no </td><td>no</td><td>no </td><td>no</td><td>no</td><td>yes</td></tr>\n",
       "\t<tr><td>no</td><td>no</td><td>yes</td><td>no</td><td>no </td><td>no</td><td>no</td><td>no </td></tr>\n",
       "\t<tr><td>no</td><td>no</td><td>no </td><td>no</td><td>no </td><td>no</td><td>no</td><td>no </td></tr>\n",
       "\t<tr><td>no</td><td>no</td><td>yes</td><td>no</td><td>no </td><td>no</td><td>no</td><td>no </td></tr>\n",
       "\t<tr><td>no</td><td>no</td><td>yes</td><td>no</td><td>yes</td><td>no</td><td>no</td><td>yes</td></tr>\n",
       "\t<tr><td>no</td><td>no</td><td>yes</td><td>no</td><td>no </td><td>no</td><td>no</td><td>no </td></tr>\n",
       "</tbody>\n",
       "</table>\n"
      ],
      "text/latex": [
       "A tibble: 6 x 8\n",
       "\\begin{tabular}{llllllll}\n",
       " asia & tub & smoke & lung & bronc & either & xray & dysp\\\\\n",
       " <chr> & <chr> & <chr> & <chr> & <chr> & <chr> & <chr> & <chr>\\\\\n",
       "\\hline\n",
       "\t no & no & no  & no & no  & no & no & yes\\\\\n",
       "\t no & no & yes & no & no  & no & no & no \\\\\n",
       "\t no & no & no  & no & no  & no & no & no \\\\\n",
       "\t no & no & yes & no & no  & no & no & no \\\\\n",
       "\t no & no & yes & no & yes & no & no & yes\\\\\n",
       "\t no & no & yes & no & no  & no & no & no \\\\\n",
       "\\end{tabular}\n"
      ],
      "text/markdown": [
       "\n",
       "A tibble: 6 x 8\n",
       "\n",
       "| asia &lt;chr&gt; | tub &lt;chr&gt; | smoke &lt;chr&gt; | lung &lt;chr&gt; | bronc &lt;chr&gt; | either &lt;chr&gt; | xray &lt;chr&gt; | dysp &lt;chr&gt; |\n",
       "|---|---|---|---|---|---|---|---|\n",
       "| no | no | no  | no | no  | no | no | yes |\n",
       "| no | no | yes | no | no  | no | no | no  |\n",
       "| no | no | no  | no | no  | no | no | no  |\n",
       "| no | no | yes | no | no  | no | no | no  |\n",
       "| no | no | yes | no | yes | no | no | yes |\n",
       "| no | no | yes | no | no  | no | no | no  |\n",
       "\n"
      ],
      "text/plain": [
       "  asia tub smoke lung bronc either xray dysp\n",
       "1 no   no  no    no   no    no     no   yes \n",
       "2 no   no  yes   no   no    no     no   no  \n",
       "3 no   no  no    no   no    no     no   no  \n",
       "4 no   no  yes   no   no    no     no   no  \n",
       "5 no   no  yes   no   yes   no     no   yes \n",
       "6 no   no  yes   no   no    no     no   no  "
      ]
     },
     "metadata": {},
     "output_type": "display_data"
    }
   ],
   "source": [
    "asia <- read_csv('https://www.ccd.pitt.edu/wiki/images/ASIA10k.csv')\n",
    "head(asia)"
   ]
  },
  {
   "cell_type": "code",
   "execution_count": 28,
   "id": "700301ad",
   "metadata": {
    "vscode": {
     "languageId": "r"
    }
   },
   "outputs": [
    {
     "name": "stdout",
     "output_type": "stream",
     "text": [
      "PHASE 1: Building Undirected Network...\n",
      "Calculating Mutual Information...\n",
      "Building initial network...\n",
      "PHASE 2: Achieving Complete Connectivity...\n",
      "Achieving complete connectivity...\n"
     ]
    },
    {
     "name": "stderr",
     "output_type": "stream",
     "text": [
      "Warning message in shortest_paths(g, from = from, to = to):\n",
      "\"At vendor/cigraph/src/paths/unweighted.c:444 : Couldn't reach some vertices.\"\n"
     ]
    },
    {
     "name": "stdout",
     "output_type": "stream",
     "text": [
      "PHASE 3: Refining Graph Structure...\n",
      "Found 0 triangles to refine...\n",
      "PHASE 4-7: Assigning Orientations...\n",
      "PHASE 4: Conditional independence tests...\n",
      "Completing orientations...\n",
      "Extracting topological order...\n"
     ]
    },
    {
     "data": {
      "text/plain": [
       "   utente   sistema trascorso \n",
       "    0.645     0.030     0.676 "
      ]
     },
     "metadata": {},
     "output_type": "display_data"
    },
    {
     "data": {
      "text/plain": [
       "\n",
       "  Random/Generated Bayesian network\n",
       "\n",
       "  model:\n",
       "   [asia][smoke][tub][lung|smoke][bronc|smoke][either|tub:lung]\n",
       "   [dysp|bronc:either][xray|either]\n",
       "  nodes:                                 8 \n",
       "  arcs:                                  7 \n",
       "    undirected arcs:                     0 \n",
       "    directed arcs:                       7 \n",
       "  average markov blanket size:           2.25 \n",
       "  average neighbourhood size:            1.75 \n",
       "  average branching factor:              0.88 \n",
       "\n",
       "  generation algorithm:                  Empty \n"
      ]
     },
     "metadata": {},
     "output_type": "display_data"
    },
    {
     "data": {
      "image/png": "[encoded data removed]",
      "text/plain": [
       "plot without title"
      ]
     },
     "metadata": {
      "image/png": {
       "height": 420,
       "width": 420
      }
     },
     "output_type": "display_data"
    }
   ],
   "source": [
    "system.time({\n",
    "asia_order <- get_node_ordering_for_K2(asia, alpha = 0.9)\n",
    "asia_net <- k2(ncol(asia) - 1, asia, asia_order)\n",
    "})\n",
    "asia_net$dag\n",
    "graphviz.plot(asia_net$dag)\n"
   ]
  },
  {
   "cell_type": "code",
   "execution_count": 15,
   "id": "c33b95b3",
   "metadata": {
    "vscode": {
     "languageId": "r"
    }
   },
   "outputs": [
    {
     "name": "stderr",
     "output_type": "stream",
     "text": [
      "\u001b[1mRows: \u001b[22m\u001b[34m10000\u001b[39m \u001b[1mColumns: \u001b[22m\u001b[34m11\u001b[39m\n",
      "\u001b[36m--\u001b[39m \u001b[1mColumn specification\u001b[22m \u001b[36m--------------------------------------------------------\u001b[39m\n",
      "\u001b[1mDelimiter:\u001b[22m \",\"\n",
      "\u001b[32mdbl\u001b[39m (11): Akt, Erk, Jnk, Mek, P38, PIP2, PIP3, PKA, PKC, Plcg, Raf\n",
      "\n",
      "\u001b[36mi\u001b[39m Use `spec()` to retrieve the full column specification for this data.\n",
      "\u001b[36mi\u001b[39m Specify the column types or set `show_col_types = FALSE` to quiet this message.\n"
     ]
    },
    {
     "data": {
      "text/html": [
       "<table class=\"dataframe\">\n",
       "<caption>A tibble: 6 x 11</caption>\n",
       "<thead>\n",
       "\t<tr><th scope=col>PKC</th><th scope=col>Plcg</th><th scope=col>PKA</th><th scope=col>PIP3</th><th scope=col>Raf</th><th scope=col>Jnk</th><th scope=col>P38</th><th scope=col>PIP2</th><th scope=col>Mek</th><th scope=col>Erk</th><th scope=col>Akt</th></tr>\n",
       "\t<tr><th scope=col>&lt;dbl&gt;</th><th scope=col>&lt;dbl&gt;</th><th scope=col>&lt;dbl&gt;</th><th scope=col>&lt;dbl&gt;</th><th scope=col>&lt;dbl&gt;</th><th scope=col>&lt;dbl&gt;</th><th scope=col>&lt;dbl&gt;</th><th scope=col>&lt;dbl&gt;</th><th scope=col>&lt;dbl&gt;</th><th scope=col>&lt;dbl&gt;</th><th scope=col>&lt;dbl&gt;</th></tr>\n",
       "</thead>\n",
       "<tbody>\n",
       "\t<tr><td>3</td><td>1</td><td>2</td><td>2</td><td>1</td><td>1</td><td>1</td><td>1</td><td>1</td><td>1</td><td>1</td></tr>\n",
       "\t<tr><td>2</td><td>1</td><td>2</td><td>2</td><td>1</td><td>1</td><td>2</td><td>1</td><td>1</td><td>2</td><td>1</td></tr>\n",
       "\t<tr><td>1</td><td>3</td><td>1</td><td>2</td><td>3</td><td>3</td><td>3</td><td>2</td><td>1</td><td>1</td><td>1</td></tr>\n",
       "\t<tr><td>1</td><td>1</td><td>3</td><td>3</td><td>2</td><td>1</td><td>1</td><td>1</td><td>1</td><td>2</td><td>1</td></tr>\n",
       "\t<tr><td>2</td><td>2</td><td>2</td><td>3</td><td>1</td><td>1</td><td>1</td><td>1</td><td>1</td><td>2</td><td>1</td></tr>\n",
       "\t<tr><td>2</td><td>1</td><td>2</td><td>1</td><td>2</td><td>2</td><td>1</td><td>1</td><td>2</td><td>2</td><td>1</td></tr>\n",
       "</tbody>\n",
       "</table>\n"
      ],
      "text/latex": [
       "A tibble: 6 x 11\n",
       "\\begin{tabular}{lllllllllll}\n",
       " PKC & Plcg & PKA & PIP3 & Raf & Jnk & P38 & PIP2 & Mek & Erk & Akt\\\\\n",
       " <dbl> & <dbl> & <dbl> & <dbl> & <dbl> & <dbl> & <dbl> & <dbl> & <dbl> & <dbl> & <dbl>\\\\\n",
       "\\hline\n",
       "\t 3 & 1 & 2 & 2 & 1 & 1 & 1 & 1 & 1 & 1 & 1\\\\\n",
       "\t 2 & 1 & 2 & 2 & 1 & 1 & 2 & 1 & 1 & 2 & 1\\\\\n",
       "\t 1 & 3 & 1 & 2 & 3 & 3 & 3 & 2 & 1 & 1 & 1\\\\\n",
       "\t 1 & 1 & 3 & 3 & 2 & 1 & 1 & 1 & 1 & 2 & 1\\\\\n",
       "\t 2 & 2 & 2 & 3 & 1 & 1 & 1 & 1 & 1 & 2 & 1\\\\\n",
       "\t 2 & 1 & 2 & 1 & 2 & 2 & 1 & 1 & 2 & 2 & 1\\\\\n",
       "\\end{tabular}\n"
      ],
      "text/markdown": [
       "\n",
       "A tibble: 6 x 11\n",
       "\n",
       "| PKC &lt;dbl&gt; | Plcg &lt;dbl&gt; | PKA &lt;dbl&gt; | PIP3 &lt;dbl&gt; | Raf &lt;dbl&gt; | Jnk &lt;dbl&gt; | P38 &lt;dbl&gt; | PIP2 &lt;dbl&gt; | Mek &lt;dbl&gt; | Erk &lt;dbl&gt; | Akt &lt;dbl&gt; |\n",
       "|---|---|---|---|---|---|---|---|---|---|---|\n",
       "| 3 | 1 | 2 | 2 | 1 | 1 | 1 | 1 | 1 | 1 | 1 |\n",
       "| 2 | 1 | 2 | 2 | 1 | 1 | 2 | 1 | 1 | 2 | 1 |\n",
       "| 1 | 3 | 1 | 2 | 3 | 3 | 3 | 2 | 1 | 1 | 1 |\n",
       "| 1 | 1 | 3 | 3 | 2 | 1 | 1 | 1 | 1 | 2 | 1 |\n",
       "| 2 | 2 | 2 | 3 | 1 | 1 | 1 | 1 | 1 | 2 | 1 |\n",
       "| 2 | 1 | 2 | 1 | 2 | 2 | 1 | 1 | 2 | 2 | 1 |\n",
       "\n"
      ],
      "text/plain": [
       "  PKC Plcg PKA PIP3 Raf Jnk P38 PIP2 Mek Erk Akt\n",
       "1 3   1    2   2    1   1   1   1    1   1   1  \n",
       "2 2   1    2   2    1   1   2   1    1   2   1  \n",
       "3 1   3    1   2    3   3   3   2    1   1   1  \n",
       "4 1   1    3   3    2   1   1   1    1   2   1  \n",
       "5 2   2    2   3    1   1   1   1    1   2   1  \n",
       "6 2   1    2   1    2   2   1   1    2   2   1  "
      ]
     },
     "metadata": {},
     "output_type": "display_data"
    }
   ],
   "source": [
    "sachs <- read_csv('https://www.ccd.pitt.edu/wiki/images/SACHS10k.csv')\n",
    "sachs <- sachs |> select(PKC, Plcg, PKA, PIP3, Raf, Jnk, P38, PIP2, Mek, Erk, Akt)\n",
    "\n",
    "head(sachs)"
   ]
  },
  {
   "cell_type": "code",
   "execution_count": 29,
   "id": "94b7e3b2",
   "metadata": {
    "vscode": {
     "languageId": "r"
    }
   },
   "outputs": [
    {
     "name": "stdout",
     "output_type": "stream",
     "text": [
      "PHASE 1: Building Undirected Network...\n",
      "Calculating Mutual Information...\n",
      "Building initial network...\n",
      "PHASE 2: Achieving Complete Connectivity...\n",
      "Achieving complete connectivity...\n"
     ]
    },
    {
     "name": "stderr",
     "output_type": "stream",
     "text": [
      "Warning message in shortest_paths(g, from = from, to = to):\n",
      "\"At vendor/cigraph/src/paths/unweighted.c:444 : Couldn't reach some vertices.\"\n",
      "Warning message in shortest_paths(g, from = from, to = to):\n",
      "\"At vendor/cigraph/src/paths/unweighted.c:444 : Couldn't reach some vertices.\"\n"
     ]
    },
    {
     "name": "stdout",
     "output_type": "stream",
     "text": [
      "PHASE 3: Refining Graph Structure...\n",
      "Found 0 triangles to refine...\n",
      "PHASE 4-7: Assigning Orientations...\n",
      "PHASE 4: Conditional independence tests...\n",
      "Completing orientations...\n",
      "Extracting topological order...\n"
     ]
    },
    {
     "data": {
      "text/plain": [
       "   utente   sistema trascorso \n",
       "    2.799     0.069     2.900 "
      ]
     },
     "metadata": {},
     "output_type": "display_data"
    },
    {
     "data": {
      "text/plain": [
       "\n",
       "  Random/Generated Bayesian network\n",
       "\n",
       "  model:\n",
       "   [PKC][Plcg][Raf|PKC][PIP3|Plcg][Erk|PKC:Raf][PIP2|Plcg:PIP3][PKA|PKC:Raf:Erk]\n",
       "   [Jnk|PKC:PKA][P38|PKC:PKA][Mek|PKC:Raf:Erk:PKA][Akt|Erk:PKA]\n",
       "  nodes:                                 11 \n",
       "  arcs:                                  19 \n",
       "    undirected arcs:                     0 \n",
       "    directed arcs:                       19 \n",
       "  average markov blanket size:           3.45 \n",
       "  average neighbourhood size:            3.45 \n",
       "  average branching factor:              1.73 \n",
       "\n",
       "  generation algorithm:                  Empty \n"
      ]
     },
     "metadata": {},
     "output_type": "display_data"
    },
    {
     "data": {
      "image/png": "[encoded data removed]",
      "text/plain": [
       "plot without title"
      ]
     },
     "metadata": {
      "image/png": {
       "height": 420,
       "width": 420
      }
     },
     "output_type": "display_data"
    }
   ],
   "source": [
    "system.time({\n",
    "sachs_order <- get_node_ordering_for_K2(sachs, alpha = 0.9)\n",
    "sachs_net <- k2(ncol(sachs) - 1, sachs, sachs_order)\n",
    "})\n",
    "sachs_net$dag\n",
    "graphviz.plot(sachs_net$dag)"
   ]
  },
  {
   "cell_type": "code",
   "execution_count": 17,
   "id": "9fe4c8cf",
   "metadata": {
    "vscode": {
     "languageId": "r"
    }
   },
   "outputs": [
    {
     "name": "stderr",
     "output_type": "stream",
     "text": [
      "\u001b[1mRows: \u001b[22m\u001b[34m10000\u001b[39m \u001b[1mColumns: \u001b[22m\u001b[34m20\u001b[39m\n",
      "\u001b[36m--\u001b[39m \u001b[1mColumn specification\u001b[22m \u001b[36m--------------------------------------------------------\u001b[39m\n",
      "\u001b[1mDelimiter:\u001b[22m \",\"\n",
      "\u001b[31mchr\u001b[39m (20): BirthAsphyxia, HypDistrib, HypoxiaInO2, CO2, ChestXray, Grunting, ...\n",
      "\n",
      "\u001b[36mi\u001b[39m Use `spec()` to retrieve the full column specification for this data.\n",
      "\u001b[36mi\u001b[39m Specify the column types or set `show_col_types = FALSE` to quiet this message.\n"
     ]
    },
    {
     "data": {
      "text/html": [
       "<table class=\"dataframe\">\n",
       "<caption>A tibble: 6 x 20</caption>\n",
       "<thead>\n",
       "\t<tr><th scope=col>BirthAsphyxia</th><th scope=col>Disease</th><th scope=col>Sick</th><th scope=col>DuctFlow</th><th scope=col>CardiacMixing</th><th scope=col>LungParench</th><th scope=col>LungFlow</th><th scope=col>LVH</th><th scope=col>Age</th><th scope=col>Grunting</th><th scope=col>HypDistrib</th><th scope=col>HypoxiaInO2</th><th scope=col>CO2</th><th scope=col>ChestXray</th><th scope=col>LVHreport</th><th scope=col>GruntingReport</th><th scope=col>LowerBodyO2</th><th scope=col>RUQO2</th><th scope=col>CO2Report</th><th scope=col>XrayReport</th></tr>\n",
       "\t<tr><th scope=col>&lt;chr&gt;</th><th scope=col>&lt;chr&gt;</th><th scope=col>&lt;chr&gt;</th><th scope=col>&lt;chr&gt;</th><th scope=col>&lt;chr&gt;</th><th scope=col>&lt;chr&gt;</th><th scope=col>&lt;chr&gt;</th><th scope=col>&lt;chr&gt;</th><th scope=col>&lt;chr&gt;</th><th scope=col>&lt;chr&gt;</th><th scope=col>&lt;chr&gt;</th><th scope=col>&lt;chr&gt;</th><th scope=col>&lt;chr&gt;</th><th scope=col>&lt;chr&gt;</th><th scope=col>&lt;chr&gt;</th><th scope=col>&lt;chr&gt;</th><th scope=col>&lt;chr&gt;</th><th scope=col>&lt;chr&gt;</th><th scope=col>&lt;chr&gt;</th><th scope=col>&lt;chr&gt;</th></tr>\n",
       "</thead>\n",
       "<tbody>\n",
       "\t<tr><td>no</td><td>PAIVS </td><td>yes</td><td>Lt_to_Rt</td><td>Complete</td><td><span style=white-space:pre-wrap>Normal  </span></td><td><span style=white-space:pre-wrap>Low   </span></td><td>no </td><td>0-3_days </td><td>no </td><td>Equal</td><td>Moderate</td><td>Normal</td><td>Oligaemic</td><td>no </td><td>no </td><td>5-12</td><td>5-12</td><td>&gt;=7.5</td><td>Grd_Glass </td></tr>\n",
       "\t<tr><td>no</td><td><span style=white-space:pre-wrap>TGA   </span></td><td>yes</td><td><span style=white-space:pre-wrap>None    </span></td><td>Transp. </td><td>Abnormal</td><td><span style=white-space:pre-wrap>Low   </span></td><td>no </td><td>0-3_days </td><td>yes</td><td>Equal</td><td><span style=white-space:pre-wrap>Severe  </span></td><td>Normal</td><td>Asy/Patch</td><td>no </td><td>no </td><td>12+ </td><td><span style=white-space:pre-wrap>&lt;5  </span></td><td>&lt;7.5 </td><td>Asy/Patchy</td></tr>\n",
       "\t<tr><td>no</td><td><span style=white-space:pre-wrap>TGA   </span></td><td>yes</td><td><span style=white-space:pre-wrap>None    </span></td><td>Transp. </td><td><span style=white-space:pre-wrap>Normal  </span></td><td><span style=white-space:pre-wrap>High  </span></td><td>yes</td><td>0-3_days </td><td>no </td><td>Equal</td><td><span style=white-space:pre-wrap>Severe  </span></td><td>Normal</td><td><span style=white-space:pre-wrap>Normal   </span></td><td>yes</td><td>no </td><td>12+ </td><td>5-12</td><td>&lt;7.5 </td><td><span style=white-space:pre-wrap>Normal    </span></td></tr>\n",
       "\t<tr><td>no</td><td><span style=white-space:pre-wrap>Lung  </span></td><td>yes</td><td><span style=white-space:pre-wrap>None    </span></td><td><span style=white-space:pre-wrap>Mild    </span></td><td>Abnormal</td><td>Normal</td><td>no </td><td>0-3_days </td><td>yes</td><td>Equal</td><td>Moderate</td><td>Normal</td><td>Asy/Patch</td><td>no </td><td>yes</td><td>5-12</td><td>5-12</td><td>&gt;=7.5</td><td>Asy/Patchy</td></tr>\n",
       "\t<tr><td>no</td><td>Fallot</td><td>no </td><td>Lt_to_Rt</td><td>Complete</td><td><span style=white-space:pre-wrap>Normal  </span></td><td><span style=white-space:pre-wrap>Low   </span></td><td>no </td><td>4-10_days</td><td>no </td><td>Equal</td><td>Moderate</td><td>Normal</td><td><span style=white-space:pre-wrap>Normal   </span></td><td>no </td><td>no </td><td>5-12</td><td>5-12</td><td>&lt;7.5 </td><td><span style=white-space:pre-wrap>Normal    </span></td></tr>\n",
       "\t<tr><td>no</td><td>Fallot</td><td>no </td><td>Lt_to_Rt</td><td><span style=white-space:pre-wrap>Mild    </span></td><td><span style=white-space:pre-wrap>Normal  </span></td><td><span style=white-space:pre-wrap>Low   </span></td><td>no </td><td>4-10_days</td><td>no </td><td>Equal</td><td>Moderate</td><td>Normal</td><td>Oligaemic</td><td>no </td><td>yes</td><td>5-12</td><td><span style=white-space:pre-wrap>&lt;5  </span></td><td>&lt;7.5 </td><td>Oligaemic </td></tr>\n",
       "</tbody>\n",
       "</table>\n"
      ],
      "text/latex": [
       "A tibble: 6 x 20\n",
       "\\begin{tabular}{llllllllllllllllllll}\n",
       " BirthAsphyxia & Disease & Sick & DuctFlow & CardiacMixing & LungParench & LungFlow & LVH & Age & Grunting & HypDistrib & HypoxiaInO2 & CO2 & ChestXray & LVHreport & GruntingReport & LowerBodyO2 & RUQO2 & CO2Report & XrayReport\\\\\n",
       " <chr> & <chr> & <chr> & <chr> & <chr> & <chr> & <chr> & <chr> & <chr> & <chr> & <chr> & <chr> & <chr> & <chr> & <chr> & <chr> & <chr> & <chr> & <chr> & <chr>\\\\\n",
       "\\hline\n",
       "\t no & PAIVS  & yes & Lt\\_to\\_Rt & Complete & Normal   & Low    & no  & 0-3\\_days  & no  & Equal & Moderate & Normal & Oligaemic & no  & no  & 5-12 & 5-12 & >=7.5 & Grd\\_Glass \\\\\n",
       "\t no & TGA    & yes & None     & Transp.  & Abnormal & Low    & no  & 0-3\\_days  & yes & Equal & Severe   & Normal & Asy/Patch & no  & no  & 12+  & <5   & <7.5  & Asy/Patchy\\\\\n",
       "\t no & TGA    & yes & None     & Transp.  & Normal   & High   & yes & 0-3\\_days  & no  & Equal & Severe   & Normal & Normal    & yes & no  & 12+  & 5-12 & <7.5  & Normal    \\\\\n",
       "\t no & Lung   & yes & None     & Mild     & Abnormal & Normal & no  & 0-3\\_days  & yes & Equal & Moderate & Normal & Asy/Patch & no  & yes & 5-12 & 5-12 & >=7.5 & Asy/Patchy\\\\\n",
       "\t no & Fallot & no  & Lt\\_to\\_Rt & Complete & Normal   & Low    & no  & 4-10\\_days & no  & Equal & Moderate & Normal & Normal    & no  & no  & 5-12 & 5-12 & <7.5  & Normal    \\\\\n",
       "\t no & Fallot & no  & Lt\\_to\\_Rt & Mild     & Normal   & Low    & no  & 4-10\\_days & no  & Equal & Moderate & Normal & Oligaemic & no  & yes & 5-12 & <5   & <7.5  & Oligaemic \\\\\n",
       "\\end{tabular}\n"
      ],
      "text/markdown": [
       "\n",
       "A tibble: 6 x 20\n",
       "\n",
       "| BirthAsphyxia &lt;chr&gt; | Disease &lt;chr&gt; | Sick &lt;chr&gt; | DuctFlow &lt;chr&gt; | CardiacMixing &lt;chr&gt; | LungParench &lt;chr&gt; | LungFlow &lt;chr&gt; | LVH &lt;chr&gt; | Age &lt;chr&gt; | Grunting &lt;chr&gt; | HypDistrib &lt;chr&gt; | HypoxiaInO2 &lt;chr&gt; | CO2 &lt;chr&gt; | ChestXray &lt;chr&gt; | LVHreport &lt;chr&gt; | GruntingReport &lt;chr&gt; | LowerBodyO2 &lt;chr&gt; | RUQO2 &lt;chr&gt; | CO2Report &lt;chr&gt; | XrayReport &lt;chr&gt; |\n",
       "|---|---|---|---|---|---|---|---|---|---|---|---|---|---|---|---|---|---|---|---|\n",
       "| no | PAIVS  | yes | Lt_to_Rt | Complete | Normal   | Low    | no  | 0-3_days  | no  | Equal | Moderate | Normal | Oligaemic | no  | no  | 5-12 | 5-12 | &gt;=7.5 | Grd_Glass  |\n",
       "| no | TGA    | yes | None     | Transp.  | Abnormal | Low    | no  | 0-3_days  | yes | Equal | Severe   | Normal | Asy/Patch | no  | no  | 12+  | &lt;5   | &lt;7.5  | Asy/Patchy |\n",
       "| no | TGA    | yes | None     | Transp.  | Normal   | High   | yes | 0-3_days  | no  | Equal | Severe   | Normal | Normal    | yes | no  | 12+  | 5-12 | &lt;7.5  | Normal     |\n",
       "| no | Lung   | yes | None     | Mild     | Abnormal | Normal | no  | 0-3_days  | yes | Equal | Moderate | Normal | Asy/Patch | no  | yes | 5-12 | 5-12 | &gt;=7.5 | Asy/Patchy |\n",
       "| no | Fallot | no  | Lt_to_Rt | Complete | Normal   | Low    | no  | 4-10_days | no  | Equal | Moderate | Normal | Normal    | no  | no  | 5-12 | 5-12 | &lt;7.5  | Normal     |\n",
       "| no | Fallot | no  | Lt_to_Rt | Mild     | Normal   | Low    | no  | 4-10_days | no  | Equal | Moderate | Normal | Oligaemic | no  | yes | 5-12 | &lt;5   | &lt;7.5  | Oligaemic  |\n",
       "\n"
      ],
      "text/plain": [
       "  BirthAsphyxia Disease Sick DuctFlow CardiacMixing LungParench LungFlow LVH\n",
       "1 no            PAIVS   yes  Lt_to_Rt Complete      Normal      Low      no \n",
       "2 no            TGA     yes  None     Transp.       Abnormal    Low      no \n",
       "3 no            TGA     yes  None     Transp.       Normal      High     yes\n",
       "4 no            Lung    yes  None     Mild          Abnormal    Normal   no \n",
       "5 no            Fallot  no   Lt_to_Rt Complete      Normal      Low      no \n",
       "6 no            Fallot  no   Lt_to_Rt Mild          Normal      Low      no \n",
       "  Age       Grunting HypDistrib HypoxiaInO2 CO2    ChestXray LVHreport\n",
       "1 0-3_days  no       Equal      Moderate    Normal Oligaemic no       \n",
       "2 0-3_days  yes      Equal      Severe      Normal Asy/Patch no       \n",
       "3 0-3_days  no       Equal      Severe      Normal Normal    yes      \n",
       "4 0-3_days  yes      Equal      Moderate    Normal Asy/Patch no       \n",
       "5 4-10_days no       Equal      Moderate    Normal Normal    no       \n",
       "6 4-10_days no       Equal      Moderate    Normal Oligaemic no       \n",
       "  GruntingReport LowerBodyO2 RUQO2 CO2Report XrayReport\n",
       "1 no             5-12        5-12  >=7.5     Grd_Glass \n",
       "2 no             12+         <5    <7.5      Asy/Patchy\n",
       "3 no             12+         5-12  <7.5      Normal    \n",
       "4 yes            5-12        5-12  >=7.5     Asy/Patchy\n",
       "5 no             5-12        5-12  <7.5      Normal    \n",
       "6 yes            5-12        <5    <7.5      Oligaemic "
      ]
     },
     "metadata": {},
     "output_type": "display_data"
    }
   ],
   "source": [
    "child <- read_csv('https://www.ccd.pitt.edu/wiki/images/CHILD10k.csv')\n",
    "child <- child |> select(BirthAsphyxia, Disease, Sick, DuctFlow, CardiacMixing, LungParench, LungFlow, LVH, Age, Grunting, HypDistrib, HypoxiaInO2, CO2, ChestXray, LVHreport, GruntingReport, LowerBodyO2, RUQO2, CO2Report, XrayReport)\n",
    "\n",
    "head(child)"
   ]
  },
  {
   "cell_type": "code",
   "execution_count": 30,
   "id": "49fdb2a5",
   "metadata": {
    "vscode": {
     "languageId": "r"
    }
   },
   "outputs": [
    {
     "name": "stdout",
     "output_type": "stream",
     "text": [
      "PHASE 1: Building Undirected Network...\n",
      "Calculating Mutual Information...\n",
      "Building initial network...\n",
      "PHASE 2: Achieving Complete Connectivity...\n",
      "Achieving complete connectivity...\n"
     ]
    },
    {
     "name": "stderr",
     "output_type": "stream",
     "text": [
      "Warning message in shortest_paths(g, from = from, to = to):\n",
      "\"At vendor/cigraph/src/paths/unweighted.c:444 : Couldn't reach some vertices.\"\n",
      "Warning message in shortest_paths(g, from = from, to = to):\n",
      "\"At vendor/cigraph/src/paths/unweighted.c:444 : Couldn't reach some vertices.\"\n",
      "Warning message in shortest_paths(g, from = from, to = to):\n",
      "\"At vendor/cigraph/src/paths/unweighted.c:444 : Couldn't reach some vertices.\"\n"
     ]
    },
    {
     "name": "stdout",
     "output_type": "stream",
     "text": [
      "PHASE 3: Refining Graph Structure...\n",
      "Found 0 triangles to refine...\n",
      "PHASE 4-7: Assigning Orientations...\n",
      "PHASE 4: Conditional independence tests...\n",
      "Completing orientations...\n",
      "Extracting topological order...\n"
     ]
    },
    {
     "data": {
      "text/plain": [
       "   utente   sistema trascorso \n",
       "    4.734     0.147     4.950 "
      ]
     },
     "metadata": {},
     "output_type": "display_data"
    },
    {
     "data": {
      "text/plain": [
       "\n",
       "  Random/Generated Bayesian network\n",
       "\n",
       "  model:\n",
       "   [BirthAsphyxia][LungParench][Disease|BirthAsphyxia:LungParench]\n",
       "   [Grunting|LungParench][CO2|LungParench][Sick|LungParench:Disease:Grunting]\n",
       "   [DuctFlow|Disease][CardiacMixing|Disease][LungFlow|Disease][LVH|Disease]\n",
       "   [GruntingReport|Grunting][CO2Report|CO2][Age|Disease:Sick]\n",
       "   [HypDistrib|DuctFlow:CardiacMixing][HypoxiaInO2|LungParench:CardiacMixing]\n",
       "   [ChestXray|LungParench:LungFlow][LVHreport|LVH]\n",
       "   [LowerBodyO2|HypDistrib:HypoxiaInO2][RUQO2|HypoxiaInO2][XrayReport|ChestXray]\n",
       "  nodes:                                 20 \n",
       "  arcs:                                  26 \n",
       "    undirected arcs:                     0 \n",
       "    directed arcs:                       26 \n",
       "  average markov blanket size:           3.20 \n",
       "  average neighbourhood size:            2.60 \n",
       "  average branching factor:              1.30 \n",
       "\n",
       "  generation algorithm:                  Empty \n"
      ]
     },
     "metadata": {},
     "output_type": "display_data"
    },
    {
     "data": {
      "image/png": "[encoded data removed]",
      "text/plain": [
       "plot without title"
      ]
     },
     "metadata": {
      "image/png": {
       "height": 420,
       "width": 420
      }
     },
     "output_type": "display_data"
    }
   ],
   "source": [
    "system.time({\n",
    "child_order <- get_node_ordering_for_K2(child, alpha = 0.9)\n",
    "child_net <- k2(ncol(child) - 1, child, child_order)\n",
    "})\n",
    "child_net$dag\n",
    "graphviz.plot(child_net$dag)"
   ]
  }
 ],
 "metadata": {
  "kernelspec": {
   "display_name": "R (aspa_env)",
   "language": "R",
   "name": "ir-aspa"
  },
  "language_info": {
   "codemirror_mode": "r",
   "file_extension": ".r",
   "mimetype": "text/x-r-source",
   "name": "R",
   "pygments_lexer": "r",
   "version": "4.4.3"
  }
 },
 "nbformat": 4,
 "nbformat_minor": 5
}

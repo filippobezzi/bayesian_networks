{
 "cells": [
  {
   "cell_type": "markdown",
   "id": "37fccc36",
   "metadata": {},
   "source": [
    "## Part 3: Comparing Manual K2 vs bnstruct\n",
    "\n",
    "In this section we **compare** the two learned structures on the same datasets (Asia, Child, Ruiz) using:\n",
    "\n",
    "1. **Structural metrics**  \n",
    "   - **Structural Hamming Distance** (SHD)  \n",
    "   - **Edge counts**  \n",
    "   - **Precision / Recall / F₁** (treating one network as “reference”)\n",
    "\n",
    "2. **Statistical scores**  \n",
    "   - **Log‐likelihood**  \n",
    "   - **BDeu** (marginal likelihood under BD equivalent uniform prior)  \n",
    "   - **BIC** and **AIC**  \n",
    "\n",
    "We use the **bnlearn** package to compute all of these.\n",
    "\n",
    "---"
   ]
  },
  {
   "cell_type": "markdown",
   "id": "fc61ddb6",
   "metadata": {},
   "source": [
    "### Libraries & Data"
   ]
  },
  {
   "cell_type": "code",
   "execution_count": null,
   "id": "b5d7cdd4",
   "metadata": {
    "vscode": {
     "languageId": "r"
    }
   },
   "outputs": [
    {
     "name": "stderr",
     "output_type": "stream",
     "text": [
      "Warning message in install.packages(\"bnlearn\"):\n",
      "“l'installazione del pacchetto ‘bnlearn’ ha uno stato di uscita non-zero”\n",
      "Aggiornamento indice HTML dei pacchetti in '.Library'\n",
      "\n",
      "Making 'packages.html' ...\n",
      " fatto\n",
      "\n"
     ]
    },
    {
     "ename": "ERROR",
     "evalue": "Error in library(bnlearn): non c'è alcun pacchetto chiamato ‘bnlearn’\n",
     "output_type": "error",
     "traceback": [
      "Error in library(bnlearn): non c'è alcun pacchetto chiamato ‘bnlearn’\nTraceback:\n",
      "1. stop(packageNotFoundError(package, lib.loc, sys.call()))"
     ]
    }
   ],
   "source": [
    "#––––––––––––––––––––––––––––––––––––––––––––––––––––––––––––––––––––––––\n",
    "# Required packages\n",
    "#––––––––––––––––––––––––––––––––––––––––––––––––––––––––––––––––––––––––\n",
    "if(!requireNamespace(\"bnlearn\", quietly=TRUE))    install.packages(\"bnlearn\")\n",
    "if(!requireNamespace(\"bnstruct\", quietly=TRUE))   install.packages(\"bnstruct\")\n",
    "if(!requireNamespace(\"Rgraphviz\", quietly=TRUE))  BiocManager::install(\"Rgraphviz\")\n",
    "if(!requireNamespace(\"igraph\", quietly=TRUE))     install.packages(\"igraph\")\n",
    "\n",
    "library(bnlearn)\n",
    "library(bnstruct)\n",
    "library(Rgraphviz)\n",
    "library(igraph)\n",
    "\n",
    "#––––––––––––––––––––––––––––––––––––––––––––––––––––––––––––––––––––––––\n",
    "# Load Part 1 networks (manual K2) and raw data\n",
    "#––––––––––––––––––––––––––––––––––––––––––––––––––––––––––––––––––––––––\n",
    "\n",
    "# (Assume you saved the results of Part 1 as bn1_asia, bn1_child, bn1_ruiz \n",
    "#  each of class ‘bn’ from bnlearn.)\n",
    "\n",
    "# Load the original data for scoring\n",
    "asia_df  <- asia()\n",
    "child_df <- child_NA_5000()\n",
    "# Ruiz dummy:\n",
    "ruiz_df_raw <- data.frame(\n",
    "  x1=c(1,1,0,1,0,0,1,0,1,0),\n",
    "  x2=c(0,1,0,1,0,1,1,0,1,0),\n",
    "  x3=c(0,1,1,1,0,1,1,0,1,0)\n",
    ")\n",
    "ruiz_df <- ruiz_df_raw + 1  # shift 0/1 → 1/2"
   ]
  },
  {
   "cell_type": "markdown",
   "id": "064cc782",
   "metadata": {},
   "source": [
    "#### Convert bnstruct DAGs → bnlearn objects"
   ]
  },
  {
   "cell_type": "code",
   "execution_count": null,
   "id": "88d78a28",
   "metadata": {
    "vscode": {
     "languageId": "r"
    }
   },
   "outputs": [],
   "source": [
    "# helper to convert a bnstruct network to bnlearn::bn\n",
    "bnstruct_to_bnlearn <- function(bnstruct_net) {\n",
    "  vars <- variables(bnstruct_net)\n",
    "  adj  <- dag(bnstruct_net)\n",
    "  bn   <- empty.graph(nodes=vars)\n",
    "  for(i in seq_along(vars)) for(j in seq_along(vars)) {\n",
    "    if(adj[i,j]==1) bn <- set.arc(bn, from=vars[i], to=vars[j])\n",
    "  }\n",
    "  bn\n",
    "}\n",
    "\n",
    "# Load Part 2 networks (from your notebook)\n",
    "asia_bs  <- learn.network( asia(), algo=\"hc\",\n",
    "                           scoring.func=\"BDeu\",\n",
    "                           layering=1:num.variables(asia()),\n",
    "                           max.fanin=2 )\n",
    "child_bs <- { d<-child(); d<-impute(d);\n",
    "              learn.network(d, algo=\"hc\", scoring.func=\"BDeu\",\n",
    "                            layering=1:num.variables(d),\n",
    "                            max.fanin=2, use.imputed.data=TRUE) }\n",
    "ruiz_bs  <- { d<-BNDataset(data=ruiz_df, discreteness=rep(\"d\",3),\n",
    "                           variables=c(\"x1\",\"x2\",\"x3\"),\n",
    "                           node.sizes=rep(2,3));\n",
    "              learn.network(d, algo=\"hc\", scoring.func=\"BDeu\",\n",
    "                            layering=1:3, max.fanin=2) }\n",
    "\n",
    "bn2_asia  <- bnstruct_to_bnlearn(asia_bs)\n",
    "bn2_child <- bnstruct_to_bnlearn(child_bs)\n",
    "bn2_ruiz  <- bnstruct_to_bnlearn(ruiz_bs)"
   ]
  },
  {
   "cell_type": "markdown",
   "id": "cf1e6e51",
   "metadata": {},
   "source": [
    "#### Structural Hamming Distance (SHD)\n",
    "The Structural Hamming Distance between two DAGs $(G_1,G_2)$ is\n",
    "$$\n",
    "\\mathrm{SHD}(G_1,G_2)=\\bigl|{(i,j):A_1(i,j)\\neq A_2(i,j)}\\bigr|.\n",
    "$$"
   ]
  },
  {
   "cell_type": "code",
   "execution_count": null,
   "id": "c24afbf9",
   "metadata": {
    "vscode": {
     "languageId": "r"
    }
   },
   "outputs": [],
   "source": [
    "shd_asia  <- shd(bn1_asia,  bn2_asia)\n",
    "shd_child <- shd(bn1_child, bn2_child)\n",
    "shd_ruiz  <- shd(bn1_ruiz,  bn2_ruiz)\n",
    "\n",
    "data.frame(\n",
    "  Dataset = c(\"Asia\",\"Child\",\"Ruiz\"),\n",
    "  SHD     = c(shd_asia, shd_child, shd_ruiz)\n",
    ")"
   ]
  },
  {
   "cell_type": "markdown",
   "id": "1e30b6e3",
   "metadata": {},
   "source": [
    "#### Edge Counts & Precision/Recall\n",
    "\n",
    "Let\n",
    "$$\n",
    "E_1,E_2\n",
    "$$\n",
    "be the arc‐sets.  Then:\n",
    "$$\n",
    "\\text{TP} = |E_1\\cap E_2|,\\quad\n",
    "\\text{FP} = |E_2\\setminus E_1|,\\quad\n",
    "\\text{FN} = |E_1\\setminus E_2|.\n",
    "$$\n",
    "+ Precision ($= \\tfrac{TP}{TP+FP}$,)\n",
    "+ Recall ($= \\tfrac{TP}{TP+FN}$,)\n",
    "+ F1 Score ($=2\\frac{PR}{P+R}$)."
   ]
  },
  {
   "cell_type": "code",
   "execution_count": null,
   "id": "d2862e4a",
   "metadata": {
    "vscode": {
     "languageId": "r"
    }
   },
   "outputs": [],
   "source": [
    "compare_stats <- function(bn_ref, bn_learn) {\n",
    "  cm <- compare(bn_ref, bn_learn, report=\"both\") \n",
    "  with(cm, data.frame(TP=tp, FP=fp, FN=fn,\n",
    "                      Precision=tp/(tp+fp),\n",
    "                      Recall=tp/(tp+fn),\n",
    "                      F1=2*tp/(2*tp+fp+fn)))\n",
    "}\n",
    "\n",
    "pr_asia  <- compare_stats(bn1_asia,  bn2_asia)\n",
    "pr_child <- compare_stats(bn1_child, bn2_child)\n",
    "pr_ruiz  <- compare_stats(bn1_ruiz,  bn2_ruiz)\n",
    "\n",
    "rbind(\n",
    "  cbind(Dataset=\"Asia\",  pr_asia),\n",
    "  cbind(Dataset=\"Child\", pr_child),\n",
    "  cbind(Dataset=\"Ruiz\",  pr_ruiz)\n",
    ")"
   ]
  },
  {
   "cell_type": "markdown",
   "id": "707c01e9",
   "metadata": {},
   "source": [
    "#### Statistical Scores\n",
    "\n",
    "For a BN (G) and data (D) of size (N):\n",
    "+ Log‐likelihood\n",
    "($\\displaystyle \\ell(G\\mid D)=\\sum_{d\\in D}\\log P(d\\mid\\hat\\Theta_G)$)\n",
    "+ BDeu\n",
    "($\\log P(D\\mid G)$) under a Dirichlet prior (($\\mathrm{iss}=1$))\n",
    "+ BIC\n",
    "($\\displaystyle \\mathrm{BIC}(G)\n",
    "= 2\\ell(G\\mid D)-|\\Theta_G|\\log N$)\n",
    "+ AIC\n",
    "($\\displaystyle \\mathrm{AIC}(G)\n",
    "= 2\\ell(G\\mid D)-2|\\Theta_G|$)"
   ]
  },
  {
   "cell_type": "code",
   "execution_count": null,
   "id": "8230dbd6",
   "metadata": {
    "vscode": {
     "languageId": "r"
    }
   },
   "outputs": [],
   "source": [
    "score_table <- function(bn, data) {\n",
    "  N <- nrow(data)\n",
    "  list(\n",
    "    loglik = score(bn, data, type=\"loglik\"),\n",
    "    BDeu   = score(bn, data, type=\"bde\",   iss=1),\n",
    "    BIC    = score(bn, data, type=\"bic\"),\n",
    "    AIC    = score(bn, data, type=\"aic\")\n",
    "  )\n",
    "}\n",
    "\n",
    "scores <- rbind(\n",
    "  cbind(Dataset=\"Asia\",  do.call(cbind, score_table(bn2_asia,  asia_df))),\n",
    "  cbind(Dataset=\"Child\", do.call(cbind, score_table(bn2_child, child_df))),\n",
    "  cbind(Dataset=\"Ruiz\",  do.call(cbind, score_table(bn2_ruiz,  ruiz_df)))\n",
    ")\n",
    "scores"
   ]
  },
  {
   "cell_type": "markdown",
   "id": "0d3d2c31",
   "metadata": {},
   "source": []
  }
 ],
 "metadata": {
  "kernelspec": {
   "display_name": "R",
   "language": "R",
   "name": "ir"
  },
  "language_info": {
   "codemirror_mode": "r",
   "file_extension": ".r",
   "mimetype": "text/x-r-source",
   "name": "R",
   "pygments_lexer": "r",
   "version": "4.4.3"
  }
 },
 "nbformat": 4,
 "nbformat_minor": 5
}
